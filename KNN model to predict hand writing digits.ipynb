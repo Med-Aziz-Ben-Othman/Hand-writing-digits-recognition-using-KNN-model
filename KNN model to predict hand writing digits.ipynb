{
 "cells": [
  {
   "cell_type": "code",
   "execution_count": 1,
   "id": "68400000",
   "metadata": {},
   "outputs": [],
   "source": [
    "#Import the libraries\n",
    "from sklearn import neighbors\n",
    "from sklearn.model_selection import train_test_split\n",
    "import numpy as np\n",
    "import matplotlib.pyplot as plt"
   ]
  },
  {
   "cell_type": "code",
   "execution_count": 2,
   "id": "5d40bb6d",
   "metadata": {},
   "outputs": [
    {
     "data": {
      "text/plain": [
       "dict_keys(['data', 'target', 'frame', 'categories', 'feature_names', 'target_names', 'DESCR', 'details', 'url'])"
      ]
     },
     "execution_count": 2,
     "metadata": {},
     "output_type": "execute_result"
    }
   ],
   "source": [
    "from sklearn.datasets import fetch_openml\n",
    "mnist = fetch_openml('mnist_784', version=1, as_frame= False)\n",
    "mnist.keys()"
   ]
  },
  {
   "cell_type": "code",
   "execution_count": 3,
   "id": "746b66d7",
   "metadata": {},
   "outputs": [
    {
     "name": "stdout",
     "output_type": "stream",
     "text": [
      "(70000, 784)\n",
      "(70000,)\n"
     ]
    }
   ],
   "source": [
    "#In any machine learning project you should alwayse know the shape of the data \n",
    "print (mnist.data.shape)\n",
    "print (mnist.target.shape)"
   ]
  },
  {
   "cell_type": "code",
   "execution_count": 11,
   "id": "bf3e9ee6",
   "metadata": {},
   "outputs": [],
   "source": [
    "sample = np.random.randint(70000, size=35000) #choose the number of samples you want to use in the learning phase, it's more efficient if you use the whole dataset\n",
    "data = mnist.data[sample] #specifie the features\n",
    "target = mnist.target[sample] #specifie the labels "
   ]
  },
  {
   "cell_type": "code",
   "execution_count": 12,
   "id": "db40fd82",
   "metadata": {},
   "outputs": [],
   "source": [
    "xtrain, xtest, ytrain, ytest = train_test_split(data, target, train_size=0.8) #split the features and labels into training and testing data "
   ]
  },
  {
   "cell_type": "code",
   "execution_count": 18,
   "id": "515f638b",
   "metadata": {},
   "outputs": [
    {
     "data": {
      "text/plain": [
       "KNeighborsClassifier()"
      ]
     },
     "execution_count": 18,
     "metadata": {},
     "output_type": "execute_result"
    }
   ],
   "source": [
    "# Create the KNN model and initialize the n_neighbors value \"K\" at 3\n",
    "knn = neighbors.KNeighborsClassifier(n_neighbors=5)\n",
    "knn.fit(xtrain, ytrain)\n"
   ]
  },
  {
   "cell_type": "code",
   "execution_count": 19,
   "id": "4ddef182",
   "metadata": {},
   "outputs": [
    {
     "data": {
      "text/plain": [
       "0.966"
      ]
     },
     "execution_count": 19,
     "metadata": {},
     "output_type": "execute_result"
    }
   ],
   "source": [
    "#get the score of the model \n",
    "knn.score(xtest, ytest)\n"
   ]
  },
  {
   "cell_type": "code",
   "execution_count": 17,
   "id": "bfe5acb8",
   "metadata": {},
   "outputs": [
    {
     "data": {
      "image/png": "[encoded data removed]",
      "text/plain": [
       "<Figure size 432x288 with 1 Axes>"
      ]
     },
     "metadata": {
      "needs_background": "light"
     },
     "output_type": "display_data"
    },
    {
     "name": "stdout",
     "output_type": "stream",
     "text": [
      "Le paramètre K minimisant le plus l'erreur est : 3-NN\n"
     ]
    }
   ],
   "source": [
    "#create a loop to decide what is the perfect K value to minimize the loss \n",
    "errors = []\n",
    "for k in range(2,30):\n",
    "    knn = neighbors.KNeighborsClassifier(k) #each time you create a knn model and calculate it's loss \n",
    "    errors.append(100*(1 - knn.fit(xtrain, ytrain).score(xtest, ytest)))\n",
    "plt.plot(range(2,30), errors, 'o-') #visualise each K value and its loss\n",
    "plt.show()\n",
    "best_k = errors.index(min(errors)) + 2 #Car on test à partir de 2-NN\n",
    "print(\"Le paramètre K minimisant le plus l'erreur est : \",best_k,\"-NN\",sep=\"\")"
   ]
  },
  {
   "cell_type": "code",
   "execution_count": 20,
   "id": "23065543",
   "metadata": {
    "scrolled": true
   },
   "outputs": [
    {
     "data": {
      "image/png": "[encoded data removed]",
      "text/plain": [
       "<Figure size 432x288 with 12 Axes>"
      ]
     },
     "metadata": {
      "needs_background": "light"
     },
     "output_type": "display_data"
    }
   ],
   "source": [
    "# We create a new KNN model using the perfect K value \n",
    "knn = neighbors.KNeighborsClassifier(3)\n",
    "knn.fit(xtrain, ytrain)\n",
    "# get the predictions on the test data \n",
    "predicted = knn.predict(xtest)\n",
    "# We resize the data in the form of images\n",
    "images = xtest.reshape((-1, 28, 28))\n",
    "# We select randomly a sample of 12 images \n",
    "select = np.random.randint(images.shape[0], size=12)\n",
    "# We display the images with their associated prediction\n",
    "for index, value in enumerate(select):\n",
    " plt.subplot(3,4,index+1)\n",
    " plt.axis('off')\n",
    " plt.imshow(images[value],cmap=plt.cm.gray_r,interpolation=\"nearest\")\n",
    " plt.title('Predicted: {}'.format( predicted[value]) )\n",
    "plt.show()"
   ]
  },
  {
   "cell_type": "code",
   "execution_count": null,
   "id": "086bf91c",
   "metadata": {},
   "outputs": [],
   "source": []
  },
  {
   "cell_type": "code",
   "execution_count": null,
   "id": "499982da",
   "metadata": {},
   "outputs": [],
   "source": []
  },
  {
   "cell_type": "code",
   "execution_count": null,
   "id": "2c16082d",
   "metadata": {},
   "outputs": [],
   "source": []
  }
 ],
 "metadata": {
  "kernelspec": {
   "display_name": "Python 3.9.5 64-bit",
   "language": "python",
   "name": "python3"
  },
  "language_info": {
   "codemirror_mode": {
    "name": "ipython",
    "version": 3
   },
   "file_extension": ".py",
   "mimetype": "text/x-python",
   "name": "python",
   "nbconvert_exporter": "python",
   "pygments_lexer": "ipython3",
   "version": "3.9.5"
  },
  "vscode": {
   "interpreter": {
    "hash": "0af7fc40402d1a16f4bfffb2a03753eb9caa85b97b1c9e33ef0192cb4cb7bb9a"
   }
  }
 },
 "nbformat": 4,
 "nbformat_minor": 5
}
